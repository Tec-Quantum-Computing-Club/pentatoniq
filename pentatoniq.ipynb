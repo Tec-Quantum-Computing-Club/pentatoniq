{
 "cells": [
  {
   "cell_type": "markdown",
   "metadata": {
    "id": "IOVFUbT-vKpn"
   },
   "source": [
    "Imports"
   ]
  },
  {
   "cell_type": "code",
   "execution_count": 1,
   "metadata": {
    "id": "H2QL1MchvJjX"
   },
   "outputs": [],
   "source": [
    "from qiskit import QuantumCircuit, Aer, assemble\n",
    "import numpy as np\n",
    "from qiskit.visualization import plot_histogram, plot_bloch_multivector\n",
    "from numpy import pi\n",
    "from random import random\n",
    "from random import seed"
   ]
  },
  {
   "cell_type": "code",
   "execution_count": 2,
   "metadata": {},
   "outputs": [],
   "source": [
    "svsim = Aer.get_backend('aer_simulator')"
   ]
  },
  {
   "cell_type": "markdown",
   "metadata": {
    "id": "VKq8f7Rfu78Z"
   },
   "source": [
    "Algoritmo base\n"
   ]
  },
  {
   "cell_type": "code",
   "execution_count": 3,
   "metadata": {
    "id": "AkObU-anu2mP"
   },
   "outputs": [],
   "source": [
    "def rotation_circuit(n, thetas):\n",
    "  \"\"\"\n",
    "  Creates a circuit with rotated qubits (Cx)\n",
    "\n",
    "  Args:\n",
    "    n (int): Numbers of qubits\n",
    "    thetas (list(ints)): Array of rotation angles\n",
    "\n",
    "  Returns:\n",
    "    QuantumCircuit\n",
    "  \"\"\"\n",
    "\n",
    "  qc = QuantumCircuit(n)\n",
    "  \n",
    "  for i in range(n - 1):\n",
    "    qc.rx(thetas[i], i)\n",
    "\n",
    "  qc.barrier()\n",
    "\n",
    "  return qc\n"
   ]
  },
  {
   "cell_type": "code",
   "execution_count": 4,
   "metadata": {
    "id": "XWNc3BSKFyYO"
   },
   "outputs": [],
   "source": [
    "def duration_gate():\n",
    "  \"\"\"\n",
    "  Randomly rotates a qubit\n",
    "  Args:\n",
    "  \"\"\"\n",
    "  qc = QuantumCircuit(1)\n",
    "  theta=random()*2*pi\n",
    "  qc.rx(theta, 0)\n",
    "  qc.barrier()\n",
    "\n",
    "  return qc"
   ]
  },
  {
   "cell_type": "markdown",
   "metadata": {
    "id": "UHimlRufvAQ-"
   },
   "source": [
    "Algoritmos parametrizados"
   ]
  },
  {
   "cell_type": "code",
   "execution_count": 5,
   "metadata": {
    "id": "sIHeRD6RyHQp"
   },
   "outputs": [],
   "source": [
    "def entanglement_qutrit(i, j, k):\n",
    "  \"\"\"\n",
    "  Args:\n",
    "    i (int): Classical bit, 0 or 1\n",
    "    j (int): Classical bit, 0 or 1\n",
    "    k (int): Classical bit, 0 or 1\n",
    "  \n",
    "  Returns:\n",
    "    QuantumCircuit: Circuit after applying H gates and CNOTs\n",
    "  \"\"\"\n",
    "  qc = QuantumCircuit(3)\n",
    "  \n",
    "  if i == 1:\n",
    "    qc.h(0)\n",
    "  if j == 1:\n",
    "    qc.h(1)\n",
    "  if k == 1:\n",
    "    qc.h(2)\n",
    "  \n",
    "  qc.cx(0, 1)\n",
    "  qc.cx(0, 2)\n",
    "  \n",
    "  return qc"
   ]
  },
  {
   "cell_type": "code",
   "execution_count": 6,
   "metadata": {
    "id": "wplndXiVvPhs"
   },
   "outputs": [],
   "source": [
    "def entanglement_circuit(n, phase):\n",
    "  qc = QuantumCircuit(n)\n",
    "  time_circuit = entanglement_qutrit(1, 0, 0)\n",
    "  note_circuit = entanglement_qutrit(1, 0, 0)\n",
    "  \n",
    "  circuit = qc.compose(time_circuit, [0,1,2]).compose(note_circuit, [3,4,5])\n",
    "  \n",
    "  circuit.barrier()\n",
    "\n",
    "  return circuit"
   ]
  },
  {
   "cell_type": "markdown",
   "metadata": {
    "id": "XpYxJ7jlwlek"
   },
   "source": [
    "Idea: El entralazamiento \"elimina\" muchas superposiciones, solo existen algunas viables. Por lo tanto, es una manera de manipular directamente que notas/tiempos se van a tocar. Control directo :)"
   ]
  },
  {
   "cell_type": "markdown",
   "metadata": {
    "id": "YBMe7l1PCTyY"
   },
   "source": [
    "Pruebas"
   ]
  },
  {
   "cell_type": "code",
   "execution_count": 7,
   "metadata": {
    "colab": {
     "base_uri": "https://localhost:8080/",
     "height": 248
    },
    "id": "RoNbuELC7TEh",
    "outputId": "98201a48-874f-4553-b686-fc2a5402af6b"
   },
   "outputs": [
    {
     "data": {
      "text/html": [
       "<pre style=\"word-wrap: normal;white-space: pre;background: #fff0;line-height: 1.1;font-family: &quot;Courier New&quot;,Courier,monospace\">      ┌───────┐  ░      ┌───┐                ░ \n",
       "q_0: ─┤ Rx(0) ├──░──────┤ H ├───────■────■───░─\n",
       "      ├───────┤  ░      └───┘     ┌─┴─┐  │   ░ \n",
       "q_1: ─┤ Rx(0) ├──░────────────────┤ X ├──┼───░─\n",
       "      ├───────┤  ░                └───┘┌─┴─┐ ░ \n",
       "q_2: ─┤ Rx(0) ├──░─────────────────────┤ X ├─░─\n",
       "     ┌┴───────┴┐ ░      ┌───┐          └───┘ ░ \n",
       "q_3: ┤ Rx(π/5) ├─░──────┤ H ├───────■────■───░─\n",
       "     ├─────────┤ ░      └───┘     ┌─┴─┐  │   ░ \n",
       "q_4: ┤ Rx(π/4) ├─░────────────────┤ X ├──┼───░─\n",
       "     ├─────────┤ ░                └───┘┌─┴─┐ ░ \n",
       "q_5: ┤ Rx(π/3) ├─░─────────────────────┤ X ├─░─\n",
       "     └─────────┘ ░ ┌─────────────┐  ░  └───┘ ░ \n",
       "q_6: ────────────░─┤ Rx(0.27563) ├──░────────░─\n",
       "                 ░ └─────────────┘  ░        ░ </pre>"
      ],
      "text/plain": [
       "      ┌───────┐  ░      ┌───┐                ░ \n",
       "q_0: ─┤ Rx(0) ├──░──────┤ H ├───────■────■───░─\n",
       "      ├───────┤  ░      └───┘     ┌─┴─┐  │   ░ \n",
       "q_1: ─┤ Rx(0) ├──░────────────────┤ X ├──┼───░─\n",
       "      ├───────┤  ░                └───┘┌─┴─┐ ░ \n",
       "q_2: ─┤ Rx(0) ├──░─────────────────────┤ X ├─░─\n",
       "     ┌┴───────┴┐ ░      ┌───┐          └───┘ ░ \n",
       "q_3: ┤ Rx(π/5) ├─░──────┤ H ├───────■────■───░─\n",
       "     ├─────────┤ ░      └───┘     ┌─┴─┐  │   ░ \n",
       "q_4: ┤ Rx(π/4) ├─░────────────────┤ X ├──┼───░─\n",
       "     ├─────────┤ ░                └───┘┌─┴─┐ ░ \n",
       "q_5: ┤ Rx(π/3) ├─░─────────────────────┤ X ├─░─\n",
       "     └─────────┘ ░ ┌─────────────┐  ░  └───┘ ░ \n",
       "q_6: ────────────░─┤ Rx(0.27563) ├──░────────░─\n",
       "                 ░ └─────────────┘  ░        ░ "
      ]
     },
     "execution_count": 7,
     "metadata": {},
     "output_type": "execute_result"
    }
   ],
   "source": [
    "# Test joining\n",
    "qc = QuantumCircuit(7)\n",
    "rotations = rotation_circuit(7, [0, 0, 0, pi/5, pi/4, pi/3])\n",
    "entangled = entanglement_circuit(7, 0)\n",
    "duration = duration_gate()\n",
    "\n",
    "qc = qc.compose(rotations).compose(duration, 6).compose(entangled)\n",
    "qc.draw()"
   ]
  },
  {
   "cell_type": "code",
   "execution_count": 8,
   "metadata": {
    "id": "D3oWg_zCCVHH"
   },
   "outputs": [],
   "source": [
    "# Let's get the result:\n",
    "qc.save_statevector()\n",
    "qobj = assemble(qc)\n",
    "result = svsim.run(qobj).result()\n",
    "\n",
    "# Print the statevector neatly:\n",
    "final_state = result.get_statevector()\n"
   ]
  },
  {
   "cell_type": "code",
   "execution_count": 9,
   "metadata": {
    "id": "hpcAbYLuEs5l"
   },
   "outputs": [],
   "source": [
    "hist = result.get_counts()"
   ]
  },
  {
   "cell_type": "code",
   "execution_count": 10,
   "metadata": {
    "colab": {
     "base_uri": "https://localhost:8080/",
     "height": 373
    },
    "id": "C9hLS2X8KtM1",
    "outputId": "f67bcb23-86f1-4331-d419-9cfca6ff31fb"
   },
   "outputs": [
    {
     "data": {
      "image/png": "[encoded data removed]",
      "text/plain": [
       "<Figure size 700x500 with 1 Axes>"
      ]
     },
     "execution_count": 10,
     "metadata": {},
     "output_type": "execute_result"
    }
   ],
   "source": [
    "plot_histogram(result.get_counts())"
   ]
  },
  {
   "cell_type": "markdown",
   "metadata": {},
   "source": [
    "# Playing music"
   ]
  },
  {
   "cell_type": "code",
   "execution_count": 11,
   "metadata": {},
   "outputs": [
    {
     "name": "stdout",
     "output_type": "stream",
     "text": [
      "pygame 2.1.3 (SDL 2.0.22, Python 3.10.7)\n",
      "Hello from the pygame community. https://www.pygame.org/contribute.html\n"
     ]
    }
   ],
   "source": [
    "from pygame import mixer\n",
    "import pygame\n",
    "import time\n",
    "import numpy as np\n",
    "from os import listdir\n",
    "pygame.init();"
   ]
  },
  {
   "cell_type": "code",
   "execution_count": 12,
   "metadata": {},
   "outputs": [],
   "source": [
    "bd = mixer.Sound(\"./audio/drums/bd click.wav\")\n",
    "sn = mixer.Sound(\"./audio/drums/sd tone.wav\")\n",
    "hh = mixer.Sound(\"./audio/drums/hihat a.wav\")\n",
    "notes = [mixer.Sound(\"./audio/synth1/\"+ii) for ii in listdir(\"./audio/synth1\")]"
   ]
  },
  {
   "cell_type": "code",
   "execution_count": 13,
   "metadata": {
    "id": "WBQii7j5ticU"
   },
   "outputs": [],
   "source": [
    "# Extract keys and vals\n",
    "keys = np.array(list(hist.keys()))\n",
    "amplitudes = np.array(list(hist.values()))"
   ]
  },
  {
   "cell_type": "code",
   "execution_count": 14,
   "metadata": {},
   "outputs": [],
   "source": [
    "# Filter data\n",
    "thresh = 1 / (2 * len(keys))\n",
    "mask = (amplitudes > thresh)\n",
    "\n",
    "# Filter with boolean mask\n",
    "keys = keys[mask]\n",
    "amplitudes = amplitudes[mask]"
   ]
  },
  {
   "cell_type": "code",
   "execution_count": 15,
   "metadata": {},
   "outputs": [
    {
     "data": {
      "text/plain": [
       "array(['0000000', '0000111', '0010000', '0010111', '0011000', '0011111',\n",
       "       '0100000', '0100111', '0101000', '0101111', '0111000', '0111111'],\n",
       "      dtype='<U7')"
      ]
     },
     "execution_count": 15,
     "metadata": {},
     "output_type": "execute_result"
    }
   ],
   "source": [
    "keys"
   ]
  },
  {
   "cell_type": "code",
   "execution_count": 16,
   "metadata": {},
   "outputs": [],
   "source": [
    "# select sequences to play\n",
    "counts = len(keys)\n",
    "\n",
    "# For storing\n",
    "melody_index = []\n",
    "time_index = []\n",
    "\n",
    "for i in range(counts):\n",
    "    # Correct order\n",
    "    qubits = keys[i][::-1]\n",
    "\n",
    "    # First three are note in binary\n",
    "    note = int(qubits[0:3], 2)\n",
    "\n",
    "    # 4, 5, 6 are beat in binary\n",
    "    beat = int(qubits[3:6], 2)\n",
    "\n",
    "    # Append\n",
    "    melody_index.append(note)\n",
    "    time_index.append(beat)\n",
    "\n",
    "# To np array\n",
    "melody_index = np.array(melody_index)\n",
    "time_index = np.array(time_index)"
   ]
  },
  {
   "cell_type": "code",
   "execution_count": 17,
   "metadata": {},
   "outputs": [
    {
     "data": {
      "text/plain": [
       "array([0, 0, 2, 2, 6, 6, 1, 1, 5, 5, 7, 7])"
      ]
     },
     "execution_count": 17,
     "metadata": {},
     "output_type": "execute_result"
    }
   ],
   "source": [
    "time_index"
   ]
  },
  {
   "cell_type": "code",
   "execution_count": 18,
   "metadata": {},
   "outputs": [
    {
     "data": {
      "text/plain": [
       "array([0, 7, 0, 7, 0, 7, 0, 7, 0, 7, 0, 7])"
      ]
     },
     "execution_count": 18,
     "metadata": {},
     "output_type": "execute_result"
    }
   ],
   "source": [
    "melody_index"
   ]
  },
  {
   "cell_type": "code",
   "execution_count": 19,
   "metadata": {},
   "outputs": [],
   "source": [
    "bpm = 200\n",
    "bps = bpm / 60\n",
    "nbeats = 8\n",
    "total_time = nbeats / bps\n",
    "grid_time = 1 / bps # time per every beat\n",
    "nloops = 2\n",
    "\n",
    "# melody_index = np.random.choice(range(len(notes)),nbeats) # note[index] to play\n",
    "\n",
    "timer = pygame.time.Clock()\n",
    "# melody_bool = [1,1,1,1,1,1,1,1] # which notes to play\n",
    "melody_bool = np.random.choice((0,1),nbeats)\n",
    "\n",
    "# melody loops\n",
    "for _ in range(nloops): \n",
    "    # plays melody\n",
    "    for i in range(nbeats): \n",
    "        # i is current beat\n",
    "        mask = time_index == i\n",
    "\n",
    "        # filter for notes on current beat\n",
    "        current_notes = melody_index[mask]\n",
    "\n",
    "        # Loop notes and play them\n",
    "        for n in current_notes:\n",
    "            notes[n].play()\n",
    "        # mask = time_index[time_index == ii]\n",
    "        # if ii == time_index[ii]: print(ii)#notes[melody_index[ii]].play()\n",
    "        # \n",
    "        time.sleep(grid_time / 2) # sleep time"
   ]
  },
  {
   "cell_type": "code",
   "execution_count": 20,
   "metadata": {},
   "outputs": [],
   "source": [
    "mask = time_index[time_index == 1]\n",
    "melody_index = np.array(melody_index)"
   ]
  },
  {
   "cell_type": "code",
   "execution_count": 21,
   "metadata": {},
   "outputs": [
    {
     "data": {
      "text/plain": [
       "array([0, 7, 0, 7, 0, 7, 0, 7, 0, 7, 0, 7])"
      ]
     },
     "execution_count": 21,
     "metadata": {},
     "output_type": "execute_result"
    }
   ],
   "source": [
    "melody_index"
   ]
  },
  {
   "cell_type": "code",
   "execution_count": null,
   "metadata": {},
   "outputs": [],
   "source": []
  }
 ],
 "metadata": {
  "colab": {
   "provenance": []
  },
  "kernelspec": {
   "display_name": "Python 3",
   "language": "python",
   "name": "python3"
  },
  "language_info": {
   "codemirror_mode": {
    "name": "ipython",
    "version": 3
   },
   "file_extension": ".py",
   "mimetype": "text/x-python",
   "name": "python",
   "nbconvert_exporter": "python",
   "pygments_lexer": "ipython3",
   "version": "3.10.7"
  },
  "vscode": {
   "interpreter": {
    "hash": "aee8b7b246df8f9039afb4144a1f6fd8d2ca17a180786b69acc140d282b71a49"
   }
  }
 },
 "nbformat": 4,
 "nbformat_minor": 4
}
